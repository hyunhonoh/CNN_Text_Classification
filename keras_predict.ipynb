{
 "cells": [
  {
   "cell_type": "markdown",
   "metadata": {},
   "source": [
    "## keras 모델 불러오기"
   ]
  },
  {
   "cell_type": "code",
   "execution_count": 1,
   "metadata": {},
   "outputs": [
    {
     "name": "stderr",
     "output_type": "stream",
     "text": [
      "Using TensorFlow backend.\n"
     ]
    }
   ],
   "source": [
    "import glob\n",
    "from keras.models import load_model\n",
    "import numpy as np\n",
    "import pandas as pd"
   ]
  },
  {
   "cell_type": "code",
   "execution_count": 2,
   "metadata": {
    "collapsed": true
   },
   "outputs": [],
   "source": [
    "model_files = glob.glob('weights.*.hdf5')\n",
    "# model_files"
   ]
  },
  {
   "cell_type": "code",
   "execution_count": 3,
   "metadata": {},
   "outputs": [
    {
     "data": {
      "text/plain": [
       "'weights.005-0.9497.hdf5'"
      ]
     },
     "execution_count": 3,
     "metadata": {},
     "output_type": "execute_result"
    }
   ],
   "source": [
    "last_model = sorted(model_files)[-1]\n",
    "last_model"
   ]
  },
  {
   "cell_type": "code",
   "execution_count": 4,
   "metadata": {
    "collapsed": true
   },
   "outputs": [],
   "source": [
    "from konlpy.tag import Twitter\n",
    "twitter = Twitter()"
   ]
  },
  {
   "cell_type": "code",
   "execution_count": 5,
   "metadata": {
    "collapsed": true
   },
   "outputs": [],
   "source": [
    "def make_vector(string_list, max_length=100):\n",
    "    x_list = []\n",
    "    for keyword in string_list:\n",
    "        if keyword in read_dictionary:\n",
    "            x_list.append(read_dictionary[keyword])\n",
    "        else:\n",
    "            x_list.append(0)    \n",
    "    return np.array(x_list[:max_length] + [0]*(max_length-len(x_list)))\n",
    "\n",
    "def merge_result(y_new):\n",
    "    result = pd.DataFrame(y_new[0]*100, columns=['분류비율'])\n",
    "    result['분류'] = pd.read_csv('./paper_class', header=None)\n",
    "\n",
    "    result = result.sort_values(by=['분류비율'], ascending=False)\n",
    "    result['분류비율'] = result['분류비율'].map('{:,.2f} %'.format)\n",
    "    return result"
   ]
  },
  {
   "cell_type": "markdown",
   "metadata": {},
   "source": [
    "### 모델 불러오기 및 단어사전 만들기"
   ]
  },
  {
   "cell_type": "code",
   "execution_count": 6,
   "metadata": {
    "collapsed": true
   },
   "outputs": [],
   "source": [
    "model = load_model(last_model)"
   ]
  },
  {
   "cell_type": "code",
   "execution_count": 7,
   "metadata": {},
   "outputs": [],
   "source": [
    "read_dictionary = np.load('vocabulary_dict.npy').item()"
   ]
  },
  {
   "cell_type": "code",
   "execution_count": 8,
   "metadata": {
    "collapsed": true
   },
   "outputs": [],
   "source": [
    "# subject = \"1∼3분기 대비 4분기 매출액 변화가 이익조정에 미치는 영향\" #경제경영 > 경영학\n",
    "# subject = \"Investigating the Determinants of Major IT Incident Tickets:\" #경제경영 > 경영학\n",
    "# subject = \"의사결정나무와 손실함수를 이용한 공정파라미터 허용차 설계에 관한 연구\" #경제경영 > 경영학\n",
    "# subject = \"보육교사가 지각하는 원장의 감성리더십이 교사직 지속이유와 이직이유에 미치는 영향\" # 사회과학 > 사회복지학\n",
    "subject = \"데이터 변형성 기반 유사성 연결을 위한 단어 추천 알고리즘\" #  공학 > 전자/정보통신공학\n",
    "# subject = \"균형능력 운동치료 시스템을 이용한 치료가 급성기 뇌졸중 환자의 균형과 이동능력에 미치는 영향\" # 의약학 > 의학일반\n",
    "# subject = \"사회적 지지 프로그램이 재가 치매노인 돌봄 제공자의 부담감과 안녕에 미치는 효과\"# 의약학 > 의학일반"
   ]
  },
  {
   "cell_type": "markdown",
   "metadata": {},
   "source": [
    "### 검증 제목 입력"
   ]
  },
  {
   "cell_type": "code",
   "execution_count": 9,
   "metadata": {
    "collapsed": true
   },
   "outputs": [],
   "source": [
    "subject = \"데이터 변형성 기반 유사성 연결을 위한 단어 추천 알고리즘\" #  공학 > 전자/정보통신공학"
   ]
  },
  {
   "cell_type": "code",
   "execution_count": 10,
   "metadata": {
    "collapsed": true
   },
   "outputs": [],
   "source": [
    "p = twitter.pos(subject)\n",
    "p = [value for value, key in p]\n",
    "x_new=make_vector(p)\n",
    "x_new=x_new.reshape(-1, 100)"
   ]
  },
  {
   "cell_type": "code",
   "execution_count": 11,
   "metadata": {
    "collapsed": true
   },
   "outputs": [],
   "source": [
    "# 기존 모델에 적용\n",
    "y_new = model.predict(x_new)"
   ]
  },
  {
   "cell_type": "code",
   "execution_count": 12,
   "metadata": {},
   "outputs": [
    {
     "data": {
      "text/html": [
       "<div>\n",
       "<style>\n",
       "    .dataframe thead tr:only-child th {\n",
       "        text-align: right;\n",
       "    }\n",
       "\n",
       "    .dataframe thead th {\n",
       "        text-align: left;\n",
       "    }\n",
       "\n",
       "    .dataframe tbody tr th {\n",
       "        vertical-align: top;\n",
       "    }\n",
       "</style>\n",
       "<table border=\"1\" class=\"dataframe\">\n",
       "  <thead>\n",
       "    <tr style=\"text-align: right;\">\n",
       "      <th></th>\n",
       "      <th>분류비율</th>\n",
       "      <th>분류</th>\n",
       "    </tr>\n",
       "  </thead>\n",
       "  <tbody>\n",
       "    <tr>\n",
       "      <th>7</th>\n",
       "      <td>61.27 %</td>\n",
       "      <td>공학</td>\n",
       "    </tr>\n",
       "    <tr>\n",
       "      <th>2</th>\n",
       "      <td>31.82 %</td>\n",
       "      <td>사회과학</td>\n",
       "    </tr>\n",
       "    <tr>\n",
       "      <th>3</th>\n",
       "      <td>1.99 %</td>\n",
       "      <td>경제경영</td>\n",
       "    </tr>\n",
       "  </tbody>\n",
       "</table>\n",
       "</div>"
      ],
      "text/plain": [
       "      분류비율    분류\n",
       "7  61.27 %    공학\n",
       "2  31.82 %  사회과학\n",
       "3   1.99 %  경제경영"
      ]
     },
     "execution_count": 12,
     "metadata": {},
     "output_type": "execute_result"
    }
   ],
   "source": [
    "result = merge_result(y_new)  # 결과 정리\n",
    "result[:3]"
   ]
  },
  {
   "cell_type": "markdown",
   "metadata": {},
   "source": [
    "### 여러 구문 입력"
   ]
  },
  {
   "cell_type": "code",
   "execution_count": 13,
   "metadata": {
    "collapsed": true
   },
   "outputs": [],
   "source": [
    "subjects = [\"1∼3분기 대비 4분기 매출액 변화가 이익조정에 미치는 영향\",                             #경제경영\n",
    "            \"Investigating the Determinants of Major IT Incident Tickets:\",                         #경제경영\n",
    "            \"의사결정나무와 손실함수를 이용한 공정파라미터 허용차 설계에 관한 연구\",                #경제경영\n",
    "            \"보육교사가 지각하는 원장의 감성리더십이 교사직 지속이유와 이직이유에 미치는 영향\",     # 사회과학\n",
    "            \"데이터 변형성 기반 유사성 연결을 위한 단어 추천 알고리즘\",                             #  공학\n",
    "            \"균형능력 운동치료 시스템을 이용한 치료가 급성기 뇌졸중 환자의 균형과 이동능력에 미치는 영향\", # 의약학\n",
    "            \"사회적 지지 프로그램이 재가 치매노인 돌봄 제공자의 부담감과 안녕에 미치는 효과\" ]# 의약학"
   ]
  },
  {
   "cell_type": "code",
   "execution_count": 14,
   "metadata": {},
   "outputs": [
    {
     "name": "stdout",
     "output_type": "stream",
     "text": [
      "      분류비율    분류\n",
      "3  98.99 %  경제경영\n",
      "2   0.73 %  사회과학\n",
      "0   0.13 %   인문학\n",
      "      분류비율    분류\n",
      "7  68.30 %    공학\n",
      "3  21.57 %  경제경영\n",
      "2   7.94 %  사회과학\n",
      "      분류비율    분류\n",
      "7  46.10 %    공학\n",
      "9  32.93 %  농수해양\n",
      "3   8.64 %  경제경영\n",
      "      분류비율    분류\n",
      "2  85.88 %  사회과학\n",
      "6   4.65 %  자연과학\n",
      "5   3.59 %  예술체육\n",
      "      분류비율    분류\n",
      "7  61.27 %    공학\n",
      "2  31.82 %  사회과학\n",
      "3   1.99 %  경제경영\n",
      "      분류비율    분류\n",
      "8  81.56 %   의약학\n",
      "2  17.16 %  사회과학\n",
      "3   0.45 %  경제경영\n",
      "      분류비율    분류\n",
      "8  66.51 %   의약학\n",
      "2  32.87 %  사회과학\n",
      "9   0.23 %  농수해양\n"
     ]
    }
   ],
   "source": [
    "for subject in subjects:\n",
    "    p = twitter.pos(subject)\n",
    "    p = [value for value, key in p]\n",
    "    x_new=make_vector(p)\n",
    "    x_new=x_new.reshape(-1, 100)\n",
    "  \n",
    "    y_new = model.predict(x_new)  # 기존 모델에 적용\n",
    "    result = merge_result(y_new)  # 결과 정리\n",
    "    print(result[:3])"
   ]
  },
  {
   "cell_type": "code",
   "execution_count": null,
   "metadata": {
    "collapsed": true
   },
   "outputs": [],
   "source": []
  }
 ],
 "metadata": {
  "kernelspec": {
   "display_name": "Python 3",
   "language": "python",
   "name": "python3"
  },
  "language_info": {
   "codemirror_mode": {
    "name": "ipython",
    "version": 3
   },
   "file_extension": ".py",
   "mimetype": "text/x-python",
   "name": "python",
   "nbconvert_exporter": "python",
   "pygments_lexer": "ipython3",
   "version": "3.6.3"
  }
 },
 "nbformat": 4,
 "nbformat_minor": 2
}
